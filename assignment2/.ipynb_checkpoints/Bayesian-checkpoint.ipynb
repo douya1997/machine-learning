{
 "cells": [
  {
   "cell_type": "code",
   "execution_count": 26,
   "metadata": {},
   "outputs": [],
   "source": [
    "import csv\n",
    "import numpy as np\n",
    "import math\n",
    "def createData(filename):\n",
    "    with open(filename) as train_f:\n",
    "        train_data=list(csv.reader(train_f))\n",
    "    #devide the train_data by classes\n",
    "    separated ={}\n",
    "    for i in range(1,len(train_data)):\n",
    "        vector = train_data[i]\n",
    "        # The label for the sample\n",
    "        class_num=int(vector[-1])\n",
    "        #The first sample in a class\n",
    "        if (class_num not in separated):\n",
    "            separated[class_num] = []\n",
    "        separated[class_num].append(vector)\n",
    "    #for each class, create data on each demension\n",
    "    separated_data={}\n",
    "    for class_num in separated:\n",
    "        separated_data[class_num]={}\n",
    "        for demen_num,demen_name in enumerate(train_data[0]):\n",
    "            #print (type(demen_name))\n",
    "            if demen_name!='Label' and demen_name!='No.':\n",
    "                separated_data[class_num][demen_name]=np.array(separated[class_num])[:,demen_num]\n",
    "    return len(train_data),separated_data\n",
    "        \n",
    "    \n",
    "        \n",
    "        \n",
    "    \n",
    "    "
   ]
  },
  {
   "cell_type": "code",
   "execution_count": 64,
   "metadata": {},
   "outputs": [
    {
     "name": "stdout",
     "output_type": "stream",
     "text": [
      "The data in class 0 are :\n",
      "    Color ['2' '1' '3' '3' '1' '3' '2' '3' '1']\n",
      "    SugerRatio ['0.091' '0.267' '0.057' '0.099' '0.161' '0.198' '0.37' '0.042' '0.103']\n",
      "    Touch ['1' '2' '1' '2' '1' '1' '2' '1' '1']\n",
      "    Root ['2' '3' '3' '1' '2' '2' '2' '1' '1']\n",
      "    Knocks ['2' '3' '3' '1' '1' '2' '1' '1' '2']\n",
      "    Texture ['1' '2' '3' '3' '2' '2' '1' '3' '2']\n",
      "    Umbilicus ['2' '3' '3' '3' '1' '1' '2' '3' '2']\n",
      "    Density ['0.666' '0.243' '0.245' '0.343' '0.639' '0.657' '0.36' '0.593' '0.719']\n",
      "The data in class 1 are :\n",
      "    Color ['1' '2' '2' '1' '3' '1' '2' '2']\n",
      "    SugerRatio ['0.46' '0.376' '0.264' '0.318' '0.215' '0.237' '0.149' '0.211']\n",
      "    Touch ['1' '1' '1' '1' '1' '2' '2' '1']\n",
      "    Root ['1' '1' '1' '1' '1' '2' '2' '2']\n",
      "    Knocks ['1' '2' '1' '2' '1' '1' '1' '1']\n",
      "    Texture ['1' '1' '1' '1' '1' '1' '2' '2']\n",
      "    Umbilicus ['1' '1' '1' '1' '1' '2' '2' '2']\n",
      "    Density ['0.697' '0.774' '0.634' '0.608' '0.556' '0.403' '0.481' '0.437']\n"
     ]
    }
   ],
   "source": [
    "total_trainnum,train_data=createData('train.csv')\n",
    "for class_num in train_data.keys():\n",
    "    print(\"The data in class %d are :\"%(class_num),end='\\n')\n",
    "    for demen_name in train_data[class_num].keys():\n",
    "        print (\"   \",demen_name,train_data[class_num][demen_name], end='\\n')\n",
    "        \n",
    "    \n",
    "\n",
    "\n",
    "\n",
    "\n"
   ]
  },
  {
   "cell_type": "code",
   "execution_count": 65,
   "metadata": {},
   "outputs": [],
   "source": [
    "#Preprocess the sample data and extract some features of the data\n",
    "def pro_data(train_data):\n",
    "    pro_data={}\n",
    "    for class_num in train_data.keys():\n",
    "        pro_data[class_num]={}\n",
    "        for demen_name in train_data[class_num].keys():\n",
    "            #print (demen_name)\n",
    "            pro_data[class_num][demen_name]={}\n",
    "            #load the raw data \n",
    "            sample_data= train_data[class_num][demen_name]\n",
    "            #print (type(sample_data))\n",
    "            temp_data=[]\n",
    "            \n",
    "            #print (temp_data)\n",
    "            # for continuous data  calculate the mean value and standard deviation\n",
    "            if demen_name=='Density' or demen_name=='SugerRatio':\n",
    "                #convert the type from string to float \n",
    "                temp_data=sample_data.astype('float')\n",
    "                #calculate the mean value\n",
    "                mean_val=np.mean(np.array(temp_data))\n",
    "                pro_data[class_num][demen_name]['mean']=mean_val\n",
    "                std_val=np.std(np.array(temp_data))\n",
    "                #calculate the standard deviation\n",
    "                pro_data[class_num][demen_name]['std']=std_val\n",
    "                pro_data[class_num][demen_name]['sample']=temp_data  \n",
    "            else:\n",
    "                temp_data=sample_data.astype('int')\n",
    "                pro_data[class_num][demen_name]['sample']=temp_data       \n",
    "    return pro_data\n",
    "                \n",
    "                \n",
    "                "
   ]
  },
  {
   "cell_type": "code",
   "execution_count": 66,
   "metadata": {},
   "outputs": [
    {
     "name": "stdout",
     "output_type": "stream",
     "text": [
      "18\n"
     ]
    }
   ],
   "source": [
    "print (total_trainnum)"
   ]
  },
  {
   "cell_type": "code",
   "execution_count": 72,
   "metadata": {
    "scrolled": true
   },
   "outputs": [
    {
     "name": "stdout",
     "output_type": "stream",
     "text": [
      "The feature of the data in class 0 are :\n",
      "   Color :\n",
      "                sample [2 1 3 3 1 3 2 3 1]\n",
      "   SugerRatio :\n",
      "                std 0.10162980509649036\n",
      "                sample [0.091 0.267 0.057 0.099 0.161 0.198 0.37  0.042 0.103]\n",
      "                mean 0.1542222222222222\n",
      "   Touch :\n",
      "                sample [1 2 1 2 1 1 2 1 1]\n",
      "   Root :\n",
      "                sample [2 3 3 1 2 2 2 1 1]\n",
      "   Texture :\n",
      "                sample [1 2 3 3 2 2 1 3 2]\n",
      "   Knocks :\n",
      "                sample [2 3 3 1 1 2 1 1 2]\n",
      "   Umbilicus :\n",
      "                sample [2 3 3 3 1 1 2 3 2]\n",
      "   Density :\n",
      "                std 0.18358252424965876\n",
      "                sample [0.666 0.243 0.245 0.343 0.639 0.657 0.36  0.593 0.719]\n",
      "                mean 0.49611111111111117\n",
      "The feature of the data in class 1 are :\n",
      "   Color :\n",
      "                sample [1 2 2 1 3 1 2 2]\n",
      "   SugerRatio :\n",
      "                std 0.09440570692495238\n",
      "                sample [0.46  0.376 0.264 0.318 0.215 0.237 0.149 0.211]\n",
      "                mean 0.27875\n",
      "   Touch :\n",
      "                sample [1 1 1 1 1 2 2 1]\n",
      "   Root :\n",
      "                sample [1 1 1 1 1 2 2 2]\n",
      "   Texture :\n",
      "                sample [1 1 1 1 1 1 2 2]\n",
      "   Knocks :\n",
      "                sample [1 2 1 2 1 1 1 1]\n",
      "   Umbilicus :\n",
      "                sample [1 1 1 1 1 2 2 2]\n",
      "   Density :\n",
      "                std 0.12086536931644233\n",
      "                sample [0.697 0.774 0.634 0.608 0.556 0.403 0.481 0.437]\n",
      "                mean 0.57375\n"
     ]
    }
   ],
   "source": [
    "train_dataset=pro_data(train_data)\n",
    "for class_num in train_dataset.keys():\n",
    "    print(\"The feature of the data in class %d are :\"%(class_num),end='\\n')\n",
    "    for demen_name in train_dataset[class_num].keys():\n",
    "        print (\"  \",demen_name,':')\n",
    "        for feature in train_dataset[class_num][demen_name].keys():\n",
    "            print(\"               \",feature, train_dataset[class_num][demen_name][feature])"
   ]
  },
  {
   "cell_type": "code",
   "execution_count": null,
   "metadata": {},
   "outputs": [],
   "source": []
  },
  {
   "cell_type": "code",
   "execution_count": 73,
   "metadata": {},
   "outputs": [],
   "source": [
    "def cal_prob(file_name,train_data):\n",
    "    with open(file_name) as test_f:\n",
    "        test_data=list(csv.reader(test_f))\n",
    "    for i in range(1,len(test_data)):\n",
    "        class_prob={}\n",
    "        #Calculate the possibility for each class\n",
    "        #print ('******')\n",
    "        for class_num in train_data.keys():\n",
    "            res=1\n",
    "            \n",
    "            #Calculate the likelihood on each demension\n",
    "            for demen_num,demen_name in enumerate(test_data[0]):\n",
    "                if demen_name!='Label' and demen_name!='No.':                    \n",
    "                    x = float(test_data[i][demen_num])\n",
    "                    #print (demen_name)\n",
    "                    #print (x)\n",
    "                    #When the data follows continuous distribution\n",
    "                    if demen_name=='Density' or demen_name=='SugerRatio' :\n",
    "                        #Find the data in training dataset for the class on this demension\n",
    "                        mean= train_data[class_num][demen_name]['mean']\n",
    "                        std=train_data[class_num][demen_name]['std']\n",
    "                        exponent = math.exp(-(math.pow(x-mean,2)/(2*math.pow(std,2))))\n",
    "                        prob = (1 / (math.sqrt(2*math.pi) * std)) * exponent\n",
    "                        res=res*prob\n",
    "                    #When the data follows discrete distribution\n",
    "                    else:\n",
    "                        x = int(test_data[i][demen_num])\n",
    "                        sample_data = train_data[class_num][demen_name]['sample']\n",
    "                        #print(x)\n",
    "                        #print(sample_data)\n",
    "                        is_equal=(sample_data==x)\n",
    "                        prob = sum(is_equal.astype(int))/len(sample_data)\n",
    "                        res = res * prob\n",
    "                        \n",
    "                        \n",
    "            class_prob[class_num]=res*(len(train_dataset[class_num])/total_trainnum)\n",
    "        print (class_prob)\n",
    "        \n",
    "                        \n",
    "                    \n",
    "                \n",
    "        \n",
    "\n"
   ]
  },
  {
   "cell_type": "code",
   "execution_count": 74,
   "metadata": {},
   "outputs": [
    {
     "name": "stdout",
     "output_type": "stream",
     "text": [
      "{0: 3.665180426076142e-05, 1: 0.03606615594376714}\n",
      "{0: 0.0008581798773291161, 1: 0.0}\n",
      "{0: 0.013351340700013266, 1: 0.024981771443384718}\n",
      "{0: 0.006516473953368407, 1: 0.10057479304436875}\n",
      "{0: 0.0008581798773291161, 1: 0.0}\n",
      "{0: 0.0003277297680532618, 1: 0.008042932562393766}\n",
      "{0: 0.0058449185425527945, 1: 0.0021930254760241202}\n",
      "{0: 0.0017293659872335099, 1: 0.445647434789868}\n",
      "{0: 0.0010478951262823698, 1: 0.11251728902050441}\n"
     ]
    }
   ],
   "source": [
    "cal_prob('test.csv',train_dataset)"
   ]
  },
  {
   "cell_type": "code",
   "execution_count": null,
   "metadata": {},
   "outputs": [],
   "source": []
  },
  {
   "cell_type": "code",
   "execution_count": null,
   "metadata": {},
   "outputs": [],
   "source": []
  }
 ],
 "metadata": {
  "kernelspec": {
   "display_name": "Python 3",
   "language": "python",
   "name": "python3"
  },
  "language_info": {
   "codemirror_mode": {
    "name": "ipython",
    "version": 3
   },
   "file_extension": ".py",
   "mimetype": "text/x-python",
   "name": "python",
   "nbconvert_exporter": "python",
   "pygments_lexer": "ipython3",
   "version": "3.4.3"
  }
 },
 "nbformat": 4,
 "nbformat_minor": 2
}
