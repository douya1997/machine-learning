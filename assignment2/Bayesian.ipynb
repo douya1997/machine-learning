{
 "cells": [
  {
   "cell_type": "code",
   "execution_count": 1,
   "metadata": {},
   "outputs": [],
   "source": [
    "import csv\n",
    "import numpy as np\n",
    "import math\n",
    "def createData(filename):\n",
    "    with open(filename) as train_f:\n",
    "        train_data=list(csv.reader(train_f))\n",
    "    #devide the train_data by classes\n",
    "    separated ={}\n",
    "    for i in range(1,len(train_data)):\n",
    "        vector = train_data[i]\n",
    "        # The label for the sample\n",
    "        class_num=int(vector[-1])\n",
    "        #The first sample in a class\n",
    "        if (class_num not in separated):\n",
    "            separated[class_num] = []\n",
    "        separated[class_num].append(vector)\n",
    "    #for each class, create data on each demension\n",
    "    separated_data={}\n",
    "    for class_num in separated:\n",
    "        separated_data[class_num]={}\n",
    "        for demen_num,demen_name in enumerate(train_data[0]):\n",
    "            #print (type(demen_name))\n",
    "            if demen_name!='Label' and demen_name!='No.':\n",
    "                separated_data[class_num][demen_name]=np.array(separated[class_num])[:,demen_num]\n",
    "    return len(train_data),separated_data\n",
    "        \n",
    "    \n",
    "        \n",
    "        \n",
    "    \n",
    "    "
   ]
  },
  {
   "cell_type": "code",
   "execution_count": 2,
   "metadata": {},
   "outputs": [
    {
     "name": "stdout",
     "output_type": "stream",
     "text": [
      "The data in class 0 are :\n",
      "    Density ['0.666' '0.243' '0.245' '0.343' '0.639' '0.657' '0.36' '0.593' '0.719']\n",
      "    Color ['2' '1' '3' '3' '1' '3' '2' '3' '1']\n",
      "    SugerRatio ['0.091' '0.267' '0.057' '0.099' '0.161' '0.198' '0.37' '0.042' '0.103']\n",
      "    Umbilicus ['2' '3' '3' '3' '1' '1' '2' '3' '2']\n",
      "    Texture ['1' '2' '3' '3' '2' '2' '1' '3' '2']\n",
      "    Knocks ['2' '3' '3' '1' '1' '2' '1' '1' '2']\n",
      "    Touch ['1' '2' '1' '2' '1' '1' '2' '1' '1']\n",
      "    Root ['2' '3' '3' '1' '2' '2' '2' '1' '1']\n",
      "The data in class 1 are :\n",
      "    Density ['0.697' '0.774' '0.634' '0.608' '0.556' '0.403' '0.481' '0.437']\n",
      "    Color ['1' '2' '2' '1' '3' '1' '2' '2']\n",
      "    SugerRatio ['0.46' '0.376' '0.264' '0.318' '0.215' '0.237' '0.149' '0.211']\n",
      "    Umbilicus ['1' '1' '1' '1' '1' '2' '2' '2']\n",
      "    Texture ['1' '1' '1' '1' '1' '1' '2' '2']\n",
      "    Knocks ['1' '2' '1' '2' '1' '1' '1' '1']\n",
      "    Touch ['1' '1' '1' '1' '1' '2' '2' '1']\n",
      "    Root ['1' '1' '1' '1' '1' '2' '2' '2']\n"
     ]
    }
   ],
   "source": [
    "total_trainnum,train_data=createData('train.csv')\n",
    "for class_num in train_data.keys():\n",
    "    print(\"The data in class %d are :\"%(class_num),end='\\n')\n",
    "    for demen_name in train_data[class_num].keys():\n",
    "        print (\"   \",demen_name,train_data[class_num][demen_name], end='\\n')\n",
    "        \n",
    "    \n",
    "\n",
    "\n",
    "\n",
    "\n"
   ]
  },
  {
   "cell_type": "code",
   "execution_count": 3,
   "metadata": {},
   "outputs": [],
   "source": [
    "#Preprocess the sample data and extract some features of the data\n",
    "def pro_data(train_data):\n",
    "    pro_data={}\n",
    "    for class_num in train_data.keys():\n",
    "        pro_data[class_num]={}\n",
    "        for demen_name in train_data[class_num].keys():\n",
    "            #print (demen_name)\n",
    "            pro_data[class_num][demen_name]={}\n",
    "            #load the raw data \n",
    "            sample_data= train_data[class_num][demen_name]\n",
    "            #print (type(sample_data))\n",
    "            temp_data=[]\n",
    "            \n",
    "            #print (temp_data)\n",
    "            # for continuous data  calculate the mean value and standard deviation\n",
    "            if demen_name=='Density' or demen_name=='SugerRatio':\n",
    "                #convert the type from string to float \n",
    "                temp_data=sample_data.astype('float')\n",
    "                #calculate the mean value\n",
    "                mean_val=np.mean(np.array(temp_data))\n",
    "                pro_data[class_num][demen_name]['mean']=mean_val\n",
    "                std_val=np.std(np.array(temp_data))\n",
    "                #calculate the standard deviation\n",
    "                pro_data[class_num][demen_name]['std']=std_val\n",
    "                pro_data[class_num][demen_name]['sample']=temp_data  \n",
    "            else:\n",
    "                temp_data=sample_data.astype('int')\n",
    "                pro_data[class_num][demen_name]['sample']=temp_data       \n",
    "    return pro_data\n",
    "                \n",
    "                \n",
    "                "
   ]
  },
  {
   "cell_type": "code",
   "execution_count": 7,
   "metadata": {},
   "outputs": [
    {
     "name": "stdout",
     "output_type": "stream",
     "text": [
      "18\n"
     ]
    }
   ],
   "source": [
    "print (total_trainnum)"
   ]
  },
  {
   "cell_type": "code",
   "execution_count": 8,
   "metadata": {
    "scrolled": true
   },
   "outputs": [
    {
     "name": "stdout",
     "output_type": "stream",
     "text": [
      "The feature of the data in class 0 are :\n",
      "   Root :\n",
      "                sample [2 3 3 1 2 2 2 1 1]\n",
      "   Color :\n",
      "                sample [2 1 3 3 1 3 2 3 1]\n",
      "   Umbilicus :\n",
      "                sample [2 3 3 3 1 1 2 3 2]\n",
      "   Texture :\n",
      "                sample [1 2 3 3 2 2 1 3 2]\n",
      "   Density :\n",
      "                std 0.18358252424965876\n",
      "                mean 0.49611111111111117\n",
      "                sample [0.666 0.243 0.245 0.343 0.639 0.657 0.36  0.593 0.719]\n",
      "   SugerRatio :\n",
      "                std 0.10162980509649036\n",
      "                mean 0.1542222222222222\n",
      "                sample [0.091 0.267 0.057 0.099 0.161 0.198 0.37  0.042 0.103]\n",
      "   Knocks :\n",
      "                sample [2 3 3 1 1 2 1 1 2]\n",
      "   Touch :\n",
      "                sample [1 2 1 2 1 1 2 1 1]\n",
      "The feature of the data in class 1 are :\n",
      "   Root :\n",
      "                sample [1 1 1 1 1 2 2 2]\n",
      "   Color :\n",
      "                sample [1 2 2 1 3 1 2 2]\n",
      "   Umbilicus :\n",
      "                sample [1 1 1 1 1 2 2 2]\n",
      "   Texture :\n",
      "                sample [1 1 1 1 1 1 2 2]\n",
      "   Density :\n",
      "                std 0.12086536931644233\n",
      "                mean 0.57375\n",
      "                sample [0.697 0.774 0.634 0.608 0.556 0.403 0.481 0.437]\n",
      "   SugerRatio :\n",
      "                std 0.09440570692495238\n",
      "                mean 0.27875\n",
      "                sample [0.46  0.376 0.264 0.318 0.215 0.237 0.149 0.211]\n",
      "   Knocks :\n",
      "                sample [1 2 1 2 1 1 1 1]\n",
      "   Touch :\n",
      "                sample [1 1 1 1 1 2 2 1]\n"
     ]
    }
   ],
   "source": [
    "train_dataset=pro_data(train_data)\n",
    "for class_num in train_dataset.keys():\n",
    "    print(\"The feature of the data in class %d are :\"%(class_num),end='\\n')\n",
    "    for demen_name in train_dataset[class_num].keys():\n",
    "        print (\"  \",demen_name,':')\n",
    "        for feature in train_dataset[class_num][demen_name].keys():\n",
    "            print(\"               \",feature, train_dataset[class_num][demen_name][feature])"
   ]
  },
  {
   "cell_type": "code",
   "execution_count": null,
   "metadata": {},
   "outputs": [],
   "source": []
  },
  {
   "cell_type": "code",
   "execution_count": 9,
   "metadata": {},
   "outputs": [],
   "source": [
    "def cal_prob(file_name,train_data):\n",
    "    with open(file_name) as test_f:\n",
    "        test_data=list(csv.reader(test_f))\n",
    "    total_corr= 0\n",
    "    print (test_data)\n",
    "    for i in range(1,len(test_data)):\n",
    "        class_prob={}\n",
    "        pred_class=0\n",
    "        pred_prob=0\n",
    "        #Calculate the possibility for each class\n",
    "        for class_num in train_data.keys():\n",
    "            res=1\n",
    "            \n",
    "            #Calculate the likelihood on each demension\n",
    "            for demen_num,demen_name in enumerate(test_data[0]):\n",
    "                if demen_name!='Label' and demen_name!='No.':                    \n",
    "                    x = float(test_data[i][demen_num])\n",
    "                    #When the data follows continuous distribution\n",
    "                    if demen_name=='Density' or demen_name=='SugerRatio' :\n",
    "                        #Find the data in training dataset for the class on this demension\n",
    "                        mean= train_data[class_num][demen_name]['mean']\n",
    "                        std=train_data[class_num][demen_name]['std']\n",
    "                        exponent = math.exp(-(math.pow(x-mean,2)/(2*math.pow(std,2))))\n",
    "                        prob = (1 / (math.sqrt(2*math.pi) * std)) * exponent\n",
    "                        res=res*prob\n",
    "                    #When the data follows discrete distribution\n",
    "                    else:\n",
    "                        x = int(test_data[i][demen_num])\n",
    "                        sample_data = train_data[class_num][demen_name]['sample']\n",
    "                        is_equal=(sample_data==x)\n",
    "                        prob = sum(is_equal.astype(int))/len(sample_data)\n",
    "                        res = res * prob                        \n",
    "            temp_prob=res*(len(train_dataset[class_num])/total_trainnum)\n",
    "            class_prob[class_num]=temp_prob\n",
    "            if(temp_prob>pred_prob):\n",
    "                pred_prob = temp_prob\n",
    "                pred_class = class_num\n",
    "        print (class_prob)\n",
    "        if pred_class==int(test_data[i][-1]):\n",
    "            total_corr+=1\n",
    "    return total_corr/(len(test_data)-1)\n",
    "        \n",
    "        \n",
    "        \n",
    "                        \n",
    "                    \n",
    "                \n",
    "                \n",
    "        \n",
    "\n"
   ]
  },
  {
   "cell_type": "code",
   "execution_count": 10,
   "metadata": {},
   "outputs": [],
   "source": [
    "def cal_feanum(file_name):\n",
    "    res={}\n",
    "    with open(file_name) as train_f:\n",
    "        train_data=np.array(list(csv.reader(train_f)))\n",
    "    for demen_num,demen_name in enumerate(train_data[0]):\n",
    "        if demen_name!='Label' and demen_name!='No.'and demen_name!='Density'and demen_name!='SugerRatio':\n",
    "            all_sample = train_data[1:,demen_num]\n",
    "            #print(all_sample)\n",
    "            res[demen_name]= np.unique(all_sample).shape[0];\n",
    "    return res;\n",
    "    "
   ]
  },
  {
   "cell_type": "code",
   "execution_count": 11,
   "metadata": {},
   "outputs": [
    {
     "name": "stdout",
     "output_type": "stream",
     "text": [
      "Root      3\n",
      "Color      3\n",
      "Texture      3\n",
      "Touch      2\n",
      "Knocks      3\n",
      "Umbilicus      3\n"
     ]
    }
   ],
   "source": [
    "fea_num = cal_feanum('train.csv')\n",
    "for fea in (fea_num).keys():\n",
    "    print (fea,'    ',fea_num[fea])\n"
   ]
  },
  {
   "cell_type": "code",
   "execution_count": 12,
   "metadata": {},
   "outputs": [],
   "source": [
    "def cal_prob_lap(file_name,train_data,laplase):\n",
    "    with open(file_name) as test_f:\n",
    "        test_data=list(csv.reader(test_f))\n",
    "    total_corr= 0\n",
    "    #print (test_data)\n",
    "    for i in range(1,len(test_data)):\n",
    "        class_prob={}\n",
    "        pred_class=0\n",
    "        pred_prob=0\n",
    "        #Calculate the possibility for each class\n",
    "        for class_num in train_data.keys():\n",
    "            res=1\n",
    "            \n",
    "            #Calculate the likelihood on each demension\n",
    "            for demen_num,demen_name in enumerate(test_data[0]):\n",
    "                if demen_name!='Label' and demen_name!='No.':                    \n",
    "                    x = float(test_data[i][demen_num])\n",
    "                    #When the data follows continuous distribution\n",
    "                    if demen_name=='Density' or demen_name=='SugerRatio' :\n",
    "                        #Find the data in training dataset for the class on this demension\n",
    "                        mean= train_data[class_num][demen_name]['mean']\n",
    "                        std=train_data[class_num][demen_name]['std']\n",
    "                        exponent = math.exp(-(math.pow(x-mean,2)/(2*math.pow(std,2))))\n",
    "                        prob = (1 / (math.sqrt(2*math.pi) * std)) * exponent\n",
    "                        \n",
    "                        res=res*prob\n",
    "                    #When the data follows discrete distribution\n",
    "                    else:\n",
    "                        x = int(test_data[i][demen_num])\n",
    "                        sample_data = train_data[class_num][demen_name]['sample']\n",
    "                        is_equal=(sample_data==x)\n",
    "                        #if laplase smoothing is not applied \n",
    "                        if(laplase=='false'):\n",
    "                            #print('this_num:%d all_num:%d' %(sum(is_equal.astype(int)),len(sample_data)))\n",
    "                            prob = sum(is_equal.astype(int))/len(sample_data)\n",
    "                        else:\n",
    "                            #print('for demension:%s after_laplase:son:%d mother:%d' %(demen_name,sum(is_equal.astype(int))+1,(len(sample_data)+fea_num[demen_name])))\n",
    "                            prob = (sum(is_equal.astype(int))+1)/(len(sample_data)+fea_num[demen_name])                       \n",
    "                        res = res * prob   \n",
    "            if laplase=='false':\n",
    "                temp_prob=res*(len(train_dataset[class_num])/total_trainnum)\n",
    "            else:\n",
    "                temp_prob = res*((len(train_dataset[class_num])+1)/(total_trainnum+len(train_data.keys())))\n",
    "            class_prob[class_num]=temp_prob\n",
    "            if(temp_prob>pred_prob):\n",
    "                pred_prob = temp_prob\n",
    "                pred_class = class_num\n",
    "        print ('The prediction result of the %dth data is %d'%(i,pred_class))\n",
    "        if pred_class==int(test_data[i][-1]):\n",
    "            total_corr+=1\n",
    "    return total_corr/(len(test_data)-1)\n",
    "        "
   ]
  },
  {
   "cell_type": "code",
   "execution_count": 13,
   "metadata": {},
   "outputs": [
    {
     "name": "stdout",
     "output_type": "stream",
     "text": [
      "The prediction result of the 1th data is 1\n",
      "The prediction result of the 2th data is 0\n",
      "The prediction result of the 3th data is 1\n",
      "The prediction result of the 4th data is 1\n",
      "The prediction result of the 5th data is 0\n",
      "The prediction result of the 6th data is 1\n",
      "The prediction result of the 7th data is 0\n",
      "The prediction result of the 8th data is 1\n",
      "The prediction result of the 9th data is 1\n"
     ]
    },
    {
     "data": {
      "text/plain": [
       "0.8888888888888888"
      ]
     },
     "execution_count": 13,
     "metadata": {},
     "output_type": "execute_result"
    }
   ],
   "source": [
    "print ('With Laplase Smoothing: ')\n",
    "cal_prob_lap('test.csv',train_dataset,'true')"
   ]
  },
  {
   "cell_type": "code",
   "execution_count": 14,
   "metadata": {},
   "outputs": [
    {
     "name": "stdout",
     "output_type": "stream",
     "text": [
      "The prediction result of the 1th data is 1\n",
      "The prediction result of the 2th data is 0\n",
      "The prediction result of the 3th data is 1\n",
      "The prediction result of the 4th data is 1\n",
      "The prediction result of the 5th data is 0\n",
      "The prediction result of the 6th data is 1\n",
      "The prediction result of the 7th data is 0\n",
      "The prediction result of the 8th data is 1\n",
      "The prediction result of the 9th data is 1\n"
     ]
    },
    {
     "data": {
      "text/plain": [
       "0.8888888888888888"
      ]
     },
     "execution_count": 14,
     "metadata": {},
     "output_type": "execute_result"
    }
   ],
   "source": [
    "print ('Without Laplase Smoothing: ')\n",
    "print (cal_prob_lap('test.csv',train_dataset,'false'))"
   ]
  },
  {
   "cell_type": "code",
   "execution_count": null,
   "metadata": {},
   "outputs": [],
   "source": []
  },
  {
   "cell_type": "code",
   "execution_count": null,
   "metadata": {},
   "outputs": [],
   "source": []
  },
  {
   "cell_type": "code",
   "execution_count": null,
   "metadata": {},
   "outputs": [],
   "source": []
  }
 ],
 "metadata": {
  "kernelspec": {
   "display_name": "Python 3",
   "language": "python",
   "name": "python3"
  },
  "language_info": {
   "codemirror_mode": {
    "name": "ipython",
    "version": 3
   },
   "file_extension": ".py",
   "mimetype": "text/x-python",
   "name": "python",
   "nbconvert_exporter": "python",
   "pygments_lexer": "ipython3",
   "version": "3.4.3"
  }
 },
 "nbformat": 4,
 "nbformat_minor": 2
}
